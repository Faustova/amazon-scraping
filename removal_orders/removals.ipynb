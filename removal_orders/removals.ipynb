{
 "cells": [
  {
   "cell_type": "code",
   "execution_count": 1,
   "id": "d116868c",
   "metadata": {},
   "outputs": [],
   "source": [
    "import pandas as pd"
   ]
  },
  {
   "cell_type": "code",
   "execution_count": 22,
   "id": "f9861dc1",
   "metadata": {},
   "outputs": [],
   "source": [
    "removals_report = pd.read_csv(\"removals_feb_april.csv\")"
   ]
  },
  {
   "cell_type": "code",
   "execution_count": 35,
   "id": "ede719b9",
   "metadata": {},
   "outputs": [],
   "source": [
    "removals_report[\"request-date\"] = pd.to_datetime(removals_report[\"request-date\"], utc=True)"
   ]
  },
  {
   "cell_type": "code",
   "execution_count": 24,
   "id": "77e9c479",
   "metadata": {
    "scrolled": true
   },
   "outputs": [
    {
     "data": {
      "text/html": [
       "<div>\n",
       "<style scoped>\n",
       "    .dataframe tbody tr th:only-of-type {\n",
       "        vertical-align: middle;\n",
       "    }\n",
       "\n",
       "    .dataframe tbody tr th {\n",
       "        vertical-align: top;\n",
       "    }\n",
       "\n",
       "    .dataframe thead th {\n",
       "        text-align: right;\n",
       "    }\n",
       "</style>\n",
       "<table border=\"1\" class=\"dataframe\">\n",
       "  <thead>\n",
       "    <tr style=\"text-align: right;\">\n",
       "      <th></th>\n",
       "      <th>request-date</th>\n",
       "      <th>order-id</th>\n",
       "      <th>order-type</th>\n",
       "      <th>order-status</th>\n",
       "      <th>last-updated-date</th>\n",
       "      <th>sku</th>\n",
       "      <th>fnsku</th>\n",
       "      <th>disposition</th>\n",
       "      <th>requested-quantity</th>\n",
       "      <th>cancelled-quantity</th>\n",
       "      <th>disposed-quantity</th>\n",
       "      <th>shipped-quantity</th>\n",
       "      <th>in-process-quantity</th>\n",
       "      <th>removal-fee</th>\n",
       "      <th>currency</th>\n",
       "    </tr>\n",
       "  </thead>\n",
       "  <tbody>\n",
       "    <tr>\n",
       "      <th>0</th>\n",
       "      <td>2023-04-05 18:01:19-07:00</td>\n",
       "      <td>wpustWnkYU</td>\n",
       "      <td>Return</td>\n",
       "      <td>Pending</td>\n",
       "      <td>2023-04-06T02:02:45-07:00</td>\n",
       "      <td>TW105_B</td>\n",
       "      <td>B09W9TW8VM</td>\n",
       "      <td>Unsellable</td>\n",
       "      <td>1</td>\n",
       "      <td>0</td>\n",
       "      <td>NaN</td>\n",
       "      <td>0.0</td>\n",
       "      <td>1</td>\n",
       "      <td>NaN</td>\n",
       "      <td>NaN</td>\n",
       "    </tr>\n",
       "    <tr>\n",
       "      <th>1</th>\n",
       "      <td>2023-04-05 18:01:19-07:00</td>\n",
       "      <td>wpustWnkYU</td>\n",
       "      <td>Return</td>\n",
       "      <td>Pending</td>\n",
       "      <td>2023-04-06T02:02:45-07:00</td>\n",
       "      <td>TW104_B</td>\n",
       "      <td>B09W9VWZD3</td>\n",
       "      <td>Unsellable</td>\n",
       "      <td>5</td>\n",
       "      <td>0</td>\n",
       "      <td>NaN</td>\n",
       "      <td>1.0</td>\n",
       "      <td>4</td>\n",
       "      <td>NaN</td>\n",
       "      <td>NaN</td>\n",
       "    </tr>\n",
       "  </tbody>\n",
       "</table>\n",
       "</div>"
      ],
      "text/plain": [
       "                request-date    order-id order-type order-status  \\\n",
       "0  2023-04-05 18:01:19-07:00  wpustWnkYU     Return      Pending   \n",
       "1  2023-04-05 18:01:19-07:00  wpustWnkYU     Return      Pending   \n",
       "\n",
       "           last-updated-date      sku       fnsku disposition  \\\n",
       "0  2023-04-06T02:02:45-07:00  TW105_B  B09W9TW8VM  Unsellable   \n",
       "1  2023-04-06T02:02:45-07:00  TW104_B  B09W9VWZD3  Unsellable   \n",
       "\n",
       "   requested-quantity  cancelled-quantity  disposed-quantity  \\\n",
       "0                   1                   0                NaN   \n",
       "1                   5                   0                NaN   \n",
       "\n",
       "   shipped-quantity  in-process-quantity  removal-fee currency  \n",
       "0               0.0                    1          NaN      NaN  \n",
       "1               1.0                    4          NaN      NaN  "
      ]
     },
     "execution_count": 24,
     "metadata": {},
     "output_type": "execute_result"
    }
   ],
   "source": [
    "removals_report.head(2)"
   ]
  },
  {
   "cell_type": "code",
   "execution_count": 25,
   "id": "286d9c95",
   "metadata": {},
   "outputs": [],
   "source": [
    "removals_report[\"sku\"] = removals_report[\"sku\"].astype(\"category\")\n",
    "removals_report[\"disposition\"] = removals_report[\"disposition\"].astype(\"category\")"
   ]
  },
  {
   "cell_type": "code",
   "execution_count": 26,
   "id": "1cb88369",
   "metadata": {},
   "outputs": [],
   "source": [
    "mask = removals_report[\"order-type\"] == \"Return\""
   ]
  },
  {
   "cell_type": "code",
   "execution_count": 28,
   "id": "61f80703",
   "metadata": {},
   "outputs": [
    {
     "name": "stderr",
     "output_type": "stream",
     "text": [
      "/var/folders/9y/_mfjgr597qbcchk76pm4jfv80000gn/T/ipykernel_77323/687020487.py:1: UserWarning: Boolean Series key will be reindexed to match DataFrame index.\n",
      "  removals_report = removals_report[mask]\n"
     ]
    }
   ],
   "source": [
    "removals_report = removals_report[mask]"
   ]
  },
  {
   "cell_type": "code",
   "execution_count": 41,
   "id": "126a4a17",
   "metadata": {},
   "outputs": [],
   "source": [
    "after = removals_report[\"request-date\"] >= '2023-03-29'\n",
    "before = removals_report[\"request-date\"] < '2023-03-29'"
   ]
  },
  {
   "cell_type": "code",
   "execution_count": 43,
   "id": "855e0dd2",
   "metadata": {},
   "outputs": [],
   "source": [
    "before_report = removals_report[before]\n",
    "after_report = removals_report[after]"
   ]
  },
  {
   "cell_type": "code",
   "execution_count": 58,
   "id": "a39b377d",
   "metadata": {},
   "outputs": [],
   "source": [
    "before_report_by_sku = before_report.groupby('sku')[\"requested-quantity\"].agg('sum')\n",
    "after_report_by_sku = after_report.groupby('sku')[\"requested-quantity\"].agg('sum')"
   ]
  },
  {
   "cell_type": "code",
   "execution_count": 61,
   "id": "6c35e7d0",
   "metadata": {},
   "outputs": [],
   "source": [
    "after_report_by_sku.to_csv(\"after.csv\")\n",
    "before_report_by_sku.to_csv(\"before.csv\")"
   ]
  },
  {
   "cell_type": "code",
   "execution_count": null,
   "id": "a78e97ff",
   "metadata": {},
   "outputs": [],
   "source": []
  }
 ],
 "metadata": {
  "kernelspec": {
   "display_name": "Python 3 (ipykernel)",
   "language": "python",
   "name": "python3"
  },
  "language_info": {
   "codemirror_mode": {
    "name": "ipython",
    "version": 3
   },
   "file_extension": ".py",
   "mimetype": "text/x-python",
   "name": "python",
   "nbconvert_exporter": "python",
   "pygments_lexer": "ipython3",
   "version": "3.9.7"
  }
 },
 "nbformat": 4,
 "nbformat_minor": 5
}
